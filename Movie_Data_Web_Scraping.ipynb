{
 "cells": [
  {
   "cell_type": "markdown",
   "id": "0f165ddf",
   "metadata": {},
   "source": [
    "# Technique - 1"
   ]
  },
  {
   "cell_type": "markdown",
   "id": "32964140",
   "metadata": {},
   "source": [
    "# Using BeautifulSoup library and IMDB API"
   ]
  },
  {
   "cell_type": "code",
   "execution_count": 1,
   "id": "b8464171",
   "metadata": {},
   "outputs": [],
   "source": [
    "import requests\n",
    "from bs4 import BeautifulSoup"
   ]
  },
  {
   "cell_type": "code",
   "execution_count": 9,
   "id": "4237f034",
   "metadata": {},
   "outputs": [],
   "source": [
    "def film_data(actor_name):\n",
    "    search = f\"https://www.imdb.com/find/?q=actor%20name&ref_=nv_sr_sm\"\n",
    "    response = requests.get(search)\n",
    "    soup = BeautifulSoup(response.text,\"html.parser\")\n",
    "    result = soup.find(\"td\",class_=\"result_text\")\n",
    "    if result:\n",
    "        actor_url = \"https://www.imdb.com/\" + result.a['href']\n",
    "        actor_response = requests.get(actor_url)\n",
    "        actor_soup = BeautifulSoup(actor_response.text,\"html.parser\")\n",
    "        actor_filmography = actor_soup.find(\"div\",id = \"filmography\")\n",
    "        \n",
    "        filmography = []\n",
    "        if filmography_section:\n",
    "            for film in actor_filmography.find_all(\"div\",class_ = \"filmo-row\"):\n",
    "                title = film.text.strip()\n",
    "                filmography.append(title)\n",
    "        return filmography\n",
    "    else:\n",
    "        return None\n",
    "    "
   ]
  },
  {
   "cell_type": "code",
   "execution_count": 10,
   "id": "3fe7bfca",
   "metadata": {},
   "outputs": [
    {
     "name": "stdout",
     "output_type": "stream",
     "text": [
      "Enter the name of the actor : Leonardo DiCaprio\n",
      "Actor not found from the website or Filmography is not available in IMDB\n"
     ]
    }
   ],
   "source": [
    "\n",
    "actor_name = input(\"Enter the name of the actor : \")\n",
    "filmography = film_data(actor_name)\n",
    "\n",
    "if filmography:\n",
    "    print(f\"Filmography of {actor_name} in descending order:\")\n",
    "    for index,film in enumerate(filmography,start=1):\n",
    "        print(f\"{index}.{film}\")\n",
    "else:\n",
    "    print(\"Actor not found from the website or Filmography is not available in IMDB\")\n",
    "        "
   ]
  },
  {
   "cell_type": "markdown",
   "id": "0df6ddf7",
   "metadata": {},
   "source": [
    "# Technique - 2\n",
    "\n",
    "# Using IMDB python package"
   ]
  },
  {
   "cell_type": "code",
   "execution_count": 4,
   "id": "6d494108",
   "metadata": {},
   "outputs": [
    {
     "name": "stdout",
     "output_type": "stream",
     "text": [
      "Requirement already satisfied: IMDbPY in /Users/soumobratamanna/miniforge3/lib/python3.9/site-packages (2022.7.9)\n",
      "Requirement already satisfied: cinemagoer in /Users/soumobratamanna/miniforge3/lib/python3.9/site-packages (from IMDbPY) (2023.5.1)\n",
      "Requirement already satisfied: lxml in /Users/soumobratamanna/miniforge3/lib/python3.9/site-packages (from cinemagoer->IMDbPY) (4.9.1)\n",
      "Requirement already satisfied: SQLAlchemy in /Users/soumobratamanna/miniforge3/lib/python3.9/site-packages (from cinemagoer->IMDbPY) (2.0.28)\n",
      "Requirement already satisfied: typing-extensions>=4.6.0 in /Users/soumobratamanna/miniforge3/lib/python3.9/site-packages (from SQLAlchemy->cinemagoer->IMDbPY) (4.10.0)\n",
      "Note: you may need to restart the kernel to use updated packages.\n"
     ]
    }
   ],
   "source": [
    "pip install IMDbPY\n"
   ]
  },
  {
   "cell_type": "code",
   "execution_count": 8,
   "id": "123bf9d0",
   "metadata": {},
   "outputs": [
    {
     "name": "stdout",
     "output_type": "stream",
     "text": [
      "Enter the name of the actor: Leonardo DiCaprio\n",
      "Filmography of Leonardo DiCaprio in descending order:\n",
      "1. producer\n",
      "2. actor\n",
      "3. writer\n",
      "4. soundtrack\n",
      "5. thanks\n",
      "6. self\n",
      "7. archive footage\n"
     ]
    }
   ],
   "source": [
    "import imdb\n",
    "\n",
    "def film(actor_name):\n",
    "    connect = imdb.IMDb()\n",
    "    search_results = connect.search_person(actor_name)\n",
    "    for actor in search_results:\n",
    "        if 'name' in actor and actor['name'].lower() == actor_name.lower():\n",
    "            connect.update(actor)\n",
    "            filmography = actor.get('filmography')\n",
    "            if filmography:\n",
    "                return filmography\n",
    "    return None\n",
    "\n",
    "\n",
    "actor_name = input(\"Enter the name of the actor: \")\n",
    "filmography = film(actor_name)\n",
    "if filmography:\n",
    "    print(f\"Filmography of {actor_name} in descending order:\")\n",
    "    for index, film in enumerate(filmography, start=1):\n",
    "        print(f\"{index}. {film}\")\n",
    "else:\n",
    "    print(\"Actor not found from the website or Filmography is not available in IMDB\")\n"
   ]
  },
  {
   "cell_type": "markdown",
   "id": "c0d2eb55",
   "metadata": {},
   "source": [
    "Conclusion : \n",
    "    \n",
    "> Both the above techniques are having some issues in generating the output(not getting the desired output as per the questions), reason behind might be the API blockage issue from IMDB website, most probably they are blocking the process of fetching details from thier website.  "
   ]
  },
  {
   "cell_type": "code",
   "execution_count": null,
   "id": "a65f9a46",
   "metadata": {},
   "outputs": [],
   "source": []
  }
 ],
 "metadata": {
  "kernelspec": {
   "display_name": "Python 3 (ipykernel)",
   "language": "python",
   "name": "python3"
  },
  "language_info": {
   "codemirror_mode": {
    "name": "ipython",
    "version": 3
   },
   "file_extension": ".py",
   "mimetype": "text/x-python",
   "name": "python",
   "nbconvert_exporter": "python",
   "pygments_lexer": "ipython3",
   "version": "3.9.13"
  }
 },
 "nbformat": 4,
 "nbformat_minor": 5
}
